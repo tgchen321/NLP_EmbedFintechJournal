{
  "nbformat": 4,
  "nbformat_minor": 0,
  "metadata": {
    "colab": {
      "provenance": [],
      "authorship_tag": "ABX9TyP0gs4fTcOLzmJttGtmZZj5",
      "include_colab_link": true
    },
    "kernelspec": {
      "name": "python3",
      "display_name": "Python 3"
    },
    "language_info": {
      "name": "python"
    }
  },
  "cells": [
    {
      "cell_type": "markdown",
      "metadata": {
        "id": "view-in-github",
        "colab_type": "text"
      },
      "source": [
        "<a href=\"https://colab.research.google.com/github/tgchen321/NLP_EmbedFintechJournal/blob/main/3.%20Research%20data/FreeGPU.ipynb\" target=\"_parent\"><img src=\"https://colab.research.google.com/assets/colab-badge.svg\" alt=\"Open In Colab\"/></a>"
      ]
    },
    {
      "cell_type": "code",
      "execution_count": null,
      "metadata": {
        "id": "0EOxuXgsd5jY"
      },
      "outputs": [],
      "source": [
        "# import necessary libraries\n",
        "import tensorflow_hub as hub\n",
        "\n",
        "# Load pre-trained universal sentence encoder model\n",
        "embed = hub.load(\"https://tfhub.dev/google/universal-sentence-encoder/4\")\n",
        "\n",
        "# Sentences for which you want to create embeddings,\n",
        "# passed as an array in embed()\n",
        "Sentences = [\n",
        "    \"How old are you\",\n",
        "    \"What is your age\",\n",
        "    \"I love to watch Television\",\n",
        "    \"I am wearing a wrist watch\"\n",
        "]\n",
        "embeddings = embed(Sentences)\n",
        "\n",
        "# Printing embeddings of each sentence\n",
        "print(embeddings)\n",
        "\n",
        "# To print each embeddings along with its corresponding\n",
        "# sentence below code can be used.\n",
        "for i in range(len(Sentences)):\n",
        "    print(Sentences[i])\n",
        "    print(embeddings[i])"
      ]
    }
  ]
}