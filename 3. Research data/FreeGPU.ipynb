{
  "nbformat": 4,
  "nbformat_minor": 0,
  "metadata": {
    "colab": {
      "provenance": [],
      "gpuType": "T4",
      "authorship_tag": "ABX9TyPr+WefTU7XC5MDnNQ+5kY9",
      "include_colab_link": true
    },
    "kernelspec": {
      "name": "python3",
      "display_name": "Python 3"
    },
    "language_info": {
      "name": "python"
    },
    "accelerator": "GPU"
  },
  "cells": [
    {
      "cell_type": "markdown",
      "metadata": {
        "id": "view-in-github",
        "colab_type": "text"
      },
      "source": [
        "<a href=\"https://colab.research.google.com/github/tgchen321/NLP_EmbedFintechJournal/blob/main/3.%20Research%20data/FreeGPU.ipynb\" target=\"_parent\"><img src=\"https://colab.research.google.com/assets/colab-badge.svg\" alt=\"Open In Colab\"/></a>"
      ]
    },
    {
      "cell_type": "code",
      "execution_count": null,
      "metadata": {
        "id": "0EOxuXgsd5jY",
        "colab": {
          "base_uri": "https://localhost:8080/"
        },
        "outputId": "07edd6d9-ad27-4682-ac5f-220427f156e4"
      },
      "outputs": [
        {
          "output_type": "stream",
          "name": "stdout",
          "text": [
            "Fri Aug  4 22:27:45 2023       \n",
            "+-----------------------------------------------------------------------------+\n",
            "| NVIDIA-SMI 525.105.17   Driver Version: 525.105.17   CUDA Version: 12.0     |\n",
            "|-------------------------------+----------------------+----------------------+\n",
            "| GPU  Name        Persistence-M| Bus-Id        Disp.A | Volatile Uncorr. ECC |\n",
            "| Fan  Temp  Perf  Pwr:Usage/Cap|         Memory-Usage | GPU-Util  Compute M. |\n",
            "|                               |                      |               MIG M. |\n",
            "|===============================+======================+======================|\n",
            "|   0  Tesla T4            Off  | 00000000:00:04.0 Off |                    0 |\n",
            "| N/A   54C    P0    29W /  70W |   4485MiB / 15360MiB |      0%      Default |\n",
            "|                               |                      |                  N/A |\n",
            "+-------------------------------+----------------------+----------------------+\n",
            "                                                                               \n",
            "+-----------------------------------------------------------------------------+\n",
            "| Processes:                                                                  |\n",
            "|  GPU   GI   CI        PID   Type   Process name                  GPU Memory |\n",
            "|        ID   ID                                                   Usage      |\n",
            "|=============================================================================|\n",
            "+-----------------------------------------------------------------------------+\n"
          ]
        }
      ],
      "source": [
        "# import necessary libraries\n",
        "import tensorflow_hub as hub\n",
        "import tensorflow as tf\n",
        "\n",
        "!nvidia-smi"
      ]
    },
    {
      "cell_type": "code",
      "source": [
        "# Load pre-trained universal sentence encoder model\n",
        "embed = hub.load(\"https://tfhub.dev/google/universal-sentence-encoder/4\")\n",
        "\n",
        "# Sentences for which you want to create embeddings,\n",
        "# passed as an array in embed()\n",
        "Sentences = [\n",
        "    \"How old are you\",\n",
        "    \"What is your age\",\n",
        "    \"I love to watch Television\",\n",
        "    \"I am wearing a wrist watch\"\n",
        "]\n",
        "embeddings = embed(Sentences)\n",
        "\n",
        "# Printing embeddings of each sentence\n",
        "print(embeddings)"
      ],
      "metadata": {
        "id": "EHkUgYxbpPh2"
      },
      "execution_count": null,
      "outputs": []
    },
    {
      "cell_type": "code",
      "source": [
        "import tensorflow as tf\n",
        "# To print each embeddings along with its corresponding\n",
        "# sentence below code can be used.\n",
        "for i in range(len(Sentences)):\n",
        "    # print(Sentences[i])\n",
        "    # print(embeddings[i])\n",
        "    print(tf.keras.losses.CosineSimilarity()(embeddings[0], embeddings[i]))"
      ],
      "metadata": {
        "id": "1AvjHYN0pyqJ",
        "colab": {
          "base_uri": "https://localhost:8080/"
        },
        "outputId": "c98483aa-9711-4642-b14f-c8d4f03fe56d"
      },
      "execution_count": 6,
      "outputs": [
        {
          "output_type": "stream",
          "name": "stdout",
          "text": [
            "tf.Tensor(-1.0, shape=(), dtype=float32)\n",
            "tf.Tensor(-0.80158675, shape=(), dtype=float32)\n",
            "tf.Tensor(-0.070599645, shape=(), dtype=float32)\n",
            "tf.Tensor(-0.09362547, shape=(), dtype=float32)\n"
          ]
        }
      ]
    }
  ]
}