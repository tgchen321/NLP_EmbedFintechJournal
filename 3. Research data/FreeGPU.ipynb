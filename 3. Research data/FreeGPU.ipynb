{
  "cells": [
    {
      "cell_type": "markdown",
      "metadata": {
        "id": "view-in-github",
        "colab_type": "text"
      },
      "source": [
        "<a href=\"https://colab.research.google.com/github/tgchen321/NLP_EmbedFintechJournal/blob/main/3.%20Research%20data/FreeGPU.ipynb\" target=\"_parent\"><img src=\"https://colab.research.google.com/assets/colab-badge.svg\" alt=\"Open In Colab\"/></a>"
      ]
    },
    {
      "cell_type": "code",
      "execution_count": 15,
      "metadata": {
        "colab": {
          "base_uri": "https://localhost:8080/",
          "height": 248
        },
        "id": "0EOxuXgsd5jY",
        "outputId": "746c11b6-e181-446c-a054-d9c85acff9b0"
      },
      "outputs": [
        {
          "output_type": "error",
          "ename": "AttributeError",
          "evalue": "ignored",
          "traceback": [
            "\u001b[0;31m---------------------------------------------------------------------------\u001b[0m",
            "\u001b[0;31mAttributeError\u001b[0m                            Traceback (most recent call last)",
            "\u001b[0;32m<ipython-input-15-0b6e19b137e5>\u001b[0m in \u001b[0;36m<cell line: 5>\u001b[0;34m()\u001b[0m\n\u001b[1;32m      3\u001b[0m \u001b[0;32mimport\u001b[0m \u001b[0mtensorflow_hub\u001b[0m \u001b[0;32mas\u001b[0m \u001b[0mhub\u001b[0m\u001b[0;34m\u001b[0m\u001b[0;34m\u001b[0m\u001b[0m\n\u001b[1;32m      4\u001b[0m \u001b[0;32mimport\u001b[0m \u001b[0mtensorflow\u001b[0m \u001b[0;32mas\u001b[0m \u001b[0mtf\u001b[0m\u001b[0;34m\u001b[0m\u001b[0;34m\u001b[0m\u001b[0m\n\u001b[0;32m----> 5\u001b[0;31m \u001b[0mtf\u001b[0m\u001b[0;34m.\u001b[0m\u001b[0menable_eager_execution\u001b[0m\u001b[0;34m(\u001b[0m\u001b[0;34m)\u001b[0m\u001b[0;34m\u001b[0m\u001b[0;34m\u001b[0m\u001b[0m\n\u001b[0m\u001b[1;32m      6\u001b[0m \u001b[0;32mfrom\u001b[0m \u001b[0mmatplotlib\u001b[0m \u001b[0;32mimport\u001b[0m \u001b[0mpyplot\u001b[0m \u001b[0;32mas\u001b[0m \u001b[0mplt\u001b[0m\u001b[0;34m\u001b[0m\u001b[0;34m\u001b[0m\u001b[0m\n\u001b[1;32m      7\u001b[0m \u001b[0;32mimport\u001b[0m \u001b[0mnltk\u001b[0m\u001b[0;34m\u001b[0m\u001b[0;34m\u001b[0m\u001b[0m\n",
            "\u001b[0;31mAttributeError\u001b[0m: module 'tensorflow' has no attribute 'enable_eager_execution'"
          ]
        }
      ],
      "source": [
        "# import necessary libraries\n",
        "from google.colab import drive\n",
        "import tensorflow_hub as hub\n",
        "import tensorflow as tf\n",
        "from matplotlib import pyplot as plt\n",
        "import nltk\n",
        "import torch\n",
        "import torchtext\n",
        "import time\n",
        "drive.mount('/content/drive')\n",
        "\n",
        "%cd /content/drive/MyDrive/Colab Notebooks/summerProject/\n",
        "import myNLPTool, pickle, math\n",
        "\n",
        "GDpath = '/content/drive/MyDrive/Colab Notebooks/summerProject/'\n",
        "\n",
        "!nvidia-smi"
      ]
    },
    {
      "cell_type": "code",
      "execution_count": 2,
      "metadata": {
        "colab": {
          "base_uri": "https://localhost:8080/"
        },
        "id": "UTPkuIrIHJ9K",
        "outputId": "24a5bad2-f077-4197-fe9b-cb8fa6456c76"
      },
      "outputs": [
        {
          "output_type": "stream",
          "name": "stderr",
          "text": [
            "[nltk_data] Downloading package stopwords to /root/nltk_data...\n",
            "[nltk_data]   Package stopwords is already up-to-date!\n",
            "[nltk_data] Downloading package punkt to /root/nltk_data...\n",
            "[nltk_data]   Package punkt is already up-to-date!\n",
            "[nltk_data] Downloading package wordnet to /root/nltk_data...\n",
            "[nltk_data]   Package wordnet is already up-to-date!\n"
          ]
        },
        {
          "output_type": "execute_result",
          "data": {
            "text/plain": [
              "True"
            ]
          },
          "metadata": {},
          "execution_count": 2
        }
      ],
      "source": [
        "nltk.download('stopwords')\n",
        "nltk.download('punkt')\n",
        "nltk.download('wordnet')"
      ]
    },
    {
      "cell_type": "code",
      "execution_count": 3,
      "metadata": {
        "id": "WBbVsPtfBgvS"
      },
      "outputs": [],
      "source": [
        "with open(\"dataList.pkl\", \"rb\") as pkl:\n",
        "\t\tdataset = pickle.load(pkl)\n",
        "\n",
        "targetSents, targetWords, wholeFileInWords = myNLPTool.Tokenise(dataset[0][\"fullText\"])\n",
        "_, _, queryWords = myNLPTool.Tokenise(dataset[0][\"citeSent\"])\n",
        "\n",
        "def Evaluation(result):\n",
        "\t# print(result)\n",
        "\tprint(\"# RESULTS: \")\n",
        "\tresult.sort(reverse = True)\n",
        "\tprint(\"Average similarity(cosine sim.): \" + str(sum(result)/len(result)))\n",
        "\tprint(\"Maximum similarity(cosine sim.): \" + str(result[0]))\n",
        "\tprint(\"Minimum similarity(cosine sim.): \" + str(result[-1]))\n",
        "\tif len(result) > 10:\n",
        "\t\ttop10 = math.ceil(len(result)/10)\n",
        "\t\tprint(\"Top 10% average similarity(cosine sim.): \" + str(sum(result[:top10])/top10))\n",
        "\t\t_, ax = plt.subplots(figsize =(10, 7))\n",
        "\t\tax.hist(result)\n",
        "\t\tplt.show()\n",
        "\tprint()"
      ]
    },
    {
      "cell_type": "markdown",
      "metadata": {
        "id": "DNtGd2DXow0C"
      },
      "source": [
        "# USE"
      ]
    },
    {
      "cell_type": "code",
      "execution_count": null,
      "metadata": {
        "id": "EHkUgYxbpPh2"
      },
      "outputs": [],
      "source": [
        "# Load pre-trained universal sentence encoder model\n",
        "embed = hub.load(\"https://tfhub.dev/google/universal-sentence-encoder/4\")\n",
        "\n",
        "# Sentences for which you want to create embeddings,\n",
        "# passed as an array in embed()\n",
        "embeddings = embed([dataset[0][\"citeSent\"]] + targetSents)\n",
        "\n",
        "# Printing embeddings of each sentence\n",
        "# print(embeddings)"
      ]
    },
    {
      "cell_type": "code",
      "execution_count": null,
      "metadata": {
        "colab": {
          "base_uri": "https://localhost:8080/",
          "height": 703
        },
        "id": "1AvjHYN0pyqJ",
        "outputId": "1e9117db-49c2-472c-982a-c5a067cd9bb4"
      },
      "outputs": [
        {
          "name": "stdout",
          "output_type": "stream",
          "text": [
            "# RESULTS: \n",
            "Average similarity(cosine sim.): 0.08126362880811984\n",
            "Maximum similarity(cosine sim.): 0.4644280970096588\n",
            "Minimum similarity(cosine sim.): -0.14825300872325897\n",
            "Top 10% average similarity(cosine sim.): 0.2824981524830773\n"
          ]
        },
        {
          "data": {
            "image/png": "[encoded data removed]",
            "text/plain": [
              "<Figure size 1000x700 with 1 Axes>"
            ]
          },
          "metadata": {},
          "output_type": "display_data"
        },
        {
          "name": "stdout",
          "output_type": "stream",
          "text": [
            "\n"
          ]
        }
      ],
      "source": [
        "# sentence\n",
        "result = []\n",
        "for i in range(1, len(targetSents)):\n",
        "    # print(Sentences[i])\n",
        "    # print(embeddings[i])\n",
        "    result.append(tf.keras.losses.CosineSimilarity()(embeddings[0], embeddings[i]).numpy() * (-1))\n",
        "\n",
        "Evaluation(result)"
      ]
    },
    {
      "cell_type": "markdown",
      "metadata": {
        "id": "oTMCfTXAo0T_"
      },
      "source": [
        "# GloVe"
      ]
    },
    {
      "cell_type": "code",
      "execution_count": null,
      "metadata": {
        "colab": {
          "base_uri": "https://localhost:8080/"
        },
        "id": "ZqVKxeDDo2SY",
        "outputId": "4c0a4a84-79ae-413c-ec4b-614f1eba80bf"
      },
      "outputs": [
        {
          "name": "stderr",
          "output_type": "stream",
          "text": [
            "100%|█████████▉| 399999/400000 [00:30<00:00, 13051.66it/s]\n"
          ]
        }
      ],
      "source": [
        "glove = torchtext.vocab.GloVe(name=\"6B\", dim=100)"
      ]
    },
    {
      "cell_type": "code",
      "execution_count": null,
      "metadata": {
        "colab": {
          "base_uri": "https://localhost:8080/",
          "height": 703
        },
        "id": "SPofa3FIpzMy",
        "outputId": "f6d312b4-31c2-4be8-dc9f-97d7962b7898"
      },
      "outputs": [
        {
          "output_type": "stream",
          "name": "stdout",
          "text": [
            "# RESULTS: \n",
            "Average similarity(cosine sim.): tf.Tensor(0.85053694, shape=(), dtype=float32)\n",
            "Maximum similarity(cosine sim.): tf.Tensor(0.9374974, shape=(), dtype=float32)\n",
            "Minimum similarity(cosine sim.): tf.Tensor(0.5614605, shape=(), dtype=float32)\n",
            "Top 10% average similarity(cosine sim.): tf.Tensor(0.9193145, shape=(), dtype=float32)\n"
          ]
        },
        {
          "output_type": "display_data",
          "data": {
            "text/plain": [
              "<Figure size 1000x700 with 1 Axes>"
            ],
            "image/png": "[encoded data removed]"
          },
          "metadata": {}
        },
        {
          "output_type": "stream",
          "name": "stdout",
          "text": [
            "\n"
          ]
        }
      ],
      "source": [
        "# sentence\n",
        "# query embedding\n",
        "queryWV = torch.zeros(size = [100])\n",
        "includedWord = 0\n",
        "for word in queryWords:\n",
        "    if torch.sum(glove[word]) == 0: continue\n",
        "    queryWV = torch.add(queryWV, glove[word])\n",
        "    includedWord += 1\n",
        "queryWV = queryWV/includedWord\n",
        "\n",
        "# target embedding & result\n",
        "result = []\n",
        "for sentence in targetWords:\n",
        "    targetWV = torch.zeros(size = [100])\n",
        "    includedWord = 0\n",
        "    for word in sentence:\n",
        "        if torch.sum(glove[word]) == 0: continue\n",
        "        targetWV = torch.add(targetWV, glove[word])\n",
        "        includedWord += 1\n",
        "    targetWV = targetWV/includedWord\n",
        "    result.append(tf.keras.losses.CosineSimilarity()(queryWV, targetWV).numpy() * (-1))\n",
        "\n",
        "Evaluation(result)"
      ]
    },
    {
      "cell_type": "code",
      "source": [
        "# document\n",
        "# query embedding\n",
        "queryWV = torch.zeros(size = [100])\n",
        "includedWord = 0\n",
        "for word in queryWords:\n",
        "    if torch.sum(glove[word]) == 0: continue\n",
        "    queryWV = torch.add(queryWV, glove[word])\n",
        "    includedWord += 1\n",
        "queryWV = queryWV/includedWord\n",
        "\n",
        "# target embedding & result\n",
        "for word in wholeFileInWords:\n",
        "    if torch.sum(glove[word]) == 0: continue\n",
        "    targetWV = torch.add(targetWV, glove[word])\n",
        "    includedWord += 1\n",
        "targetWV = targetWV/includedWord\n",
        "result = tf.keras.losses.CosineSimilarity()(queryWV, targetWV).numpy() * (-1)\n",
        "result"
      ],
      "metadata": {
        "colab": {
          "base_uri": "https://localhost:8080/"
        },
        "id": "-9vIgpV1-7SW",
        "outputId": "fe4593a6-ca7e-474a-d693-c6f7596ddae0"
      },
      "execution_count": null,
      "outputs": [
        {
          "output_type": "execute_result",
          "data": {
            "text/plain": [
              "<tf.Tensor: shape=(), dtype=float32, numpy=0.93592113>"
            ]
          },
          "metadata": {},
          "execution_count": 38
        }
      ]
    },
    {
      "cell_type": "markdown",
      "source": [
        "# ELMo"
      ],
      "metadata": {
        "id": "oi-rr-yt360r"
      }
    },
    {
      "cell_type": "code",
      "source": [
        "!pip install --upgrade simple_elmo"
      ],
      "metadata": {
        "colab": {
          "base_uri": "https://localhost:8080/"
        },
        "id": "PDpNAFug38Ll",
        "outputId": "8620704f-fbc0-4d90-c1ca-3bb95a4132b3"
      },
      "execution_count": 4,
      "outputs": [
        {
          "output_type": "stream",
          "name": "stdout",
          "text": [
            "Collecting simple_elmo\n",
            "  Downloading simple_elmo-0.9.2-py3-none-any.whl (46 kB)\n",
            "\u001b[?25l     \u001b[90m━━━━━━━━━━━━━━━━━━━━━━━━━━━━━━━━━━━━━━━━\u001b[0m \u001b[32m0.0/46.2 kB\u001b[0m \u001b[31m?\u001b[0m eta \u001b[36m-:--:--\u001b[0m\r\u001b[2K     \u001b[90m━━━━━━━━━━━━━━━━━━━━━━━━━━━━━━━━━━━━━━━━\u001b[0m \u001b[32m46.2/46.2 kB\u001b[0m \u001b[31m1.1 MB/s\u001b[0m eta \u001b[36m0:00:00\u001b[0m\n",
            "\u001b[?25hRequirement already satisfied: h5py in /usr/local/lib/python3.10/dist-packages (from simple_elmo) (3.9.0)\n",
            "Requirement already satisfied: numpy in /usr/local/lib/python3.10/dist-packages (from simple_elmo) (1.23.5)\n",
            "Requirement already satisfied: smart-open>1.8.1 in /usr/local/lib/python3.10/dist-packages (from simple_elmo) (6.3.0)\n",
            "Requirement already satisfied: pandas in /usr/local/lib/python3.10/dist-packages (from simple_elmo) (1.5.3)\n",
            "Requirement already satisfied: scipy in /usr/local/lib/python3.10/dist-packages (from simple_elmo) (1.10.1)\n",
            "Requirement already satisfied: python-dateutil>=2.8.1 in /usr/local/lib/python3.10/dist-packages (from pandas->simple_elmo) (2.8.2)\n",
            "Requirement already satisfied: pytz>=2020.1 in /usr/local/lib/python3.10/dist-packages (from pandas->simple_elmo) (2023.3)\n",
            "Requirement already satisfied: six>=1.5 in /usr/local/lib/python3.10/dist-packages (from python-dateutil>=2.8.1->pandas->simple_elmo) (1.16.0)\n",
            "Installing collected packages: simple_elmo\n",
            "Successfully installed simple_elmo-0.9.2\n"
          ]
        }
      ]
    },
    {
      "cell_type": "code",
      "source": [
        "import simple_elmo as SE\n",
        "model = SE.ElmoModel()\n",
        "model.load(\"ELMo_eng_model\")"
      ],
      "metadata": {
        "colab": {
          "base_uri": "https://localhost:8080/",
          "height": 90
        },
        "id": "z6n-ksEm3-0_",
        "outputId": "fb503ed3-d1a5-45ae-8d29-525b17e89136"
      },
      "execution_count": 4,
      "outputs": [
        {
          "output_type": "stream",
          "name": "stderr",
          "text": [
            "/usr/local/lib/python3.10/dist-packages/simple_elmo/model.py:531: UserWarning: `tf.nn.rnn_cell.LSTMCell` is deprecated and will be removed in a future version. This class is equivalent as `tf.keras.layers.LSTMCell`, and will be replaced by that in Tensorflow 2.0.\n",
            "  lstm_cell = tf.compat.v1.nn.rnn_cell.LSTMCell(\n"
          ]
        },
        {
          "output_type": "execute_result",
          "data": {
            "text/plain": [
              "'The model is now loaded.'"
            ],
            "application/vnd.google.colaboratory.intrinsic+json": {
              "type": "string"
            }
          },
          "metadata": {},
          "execution_count": 4
        }
      ]
    },
    {
      "cell_type": "code",
      "source": [
        "# sentence\n",
        "elapsed = []\n",
        "t = time.time()\n",
        "queryWV = model.get_elmo_vector_average([dataset[0][\"citeSent\"]])\n",
        "elapsed.append(time.time() - t)\n",
        "targetWVs = model.get_elmo_vector_average(targetSents)"
      ],
      "metadata": {
        "id": "Nlvg0Kbq6Qgk"
      },
      "execution_count": 5,
      "outputs": []
    },
    {
      "cell_type": "code",
      "source": [
        "with tf.compat.v1.Session() as sess:\n",
        "    result = []\n",
        "    for targetWV in targetWVs:\n",
        "        result.append((tf.keras.losses.CosineSimilarity()(queryWV[0], targetWV) * (-1)).eval())\n",
        "Evaluation(result)\n",
        "print(\"Average elapsed time per sentence embedding: \" + str(round(sum(elapsed)/len(elapsed), 2)) + \" sec\")"
      ],
      "metadata": {
        "colab": {
          "base_uri": "https://localhost:8080/",
          "height": 703
        },
        "id": "onY2zVBL8D5l",
        "outputId": "56ee3dd2-dd9f-4b88-e9fd-b631c4e0342e"
      },
      "execution_count": 24,
      "outputs": [
        {
          "output_type": "stream",
          "name": "stdout",
          "text": [
            "# RESULTS: \n",
            "Average similarity(cosine sim.): 0.9262059116433976\n",
            "Maximum similarity(cosine sim.): 0.9915574561918614\n",
            "Minimum similarity(cosine sim.): 0.3511946247703288\n",
            "Top 10% average similarity(cosine sim.): 0.9839693817825195\n"
          ]
        },
        {
          "output_type": "display_data",
          "data": {
            "text/plain": [
              "<Figure size 1000x700 with 1 Axes>"
            ],
            "image/png": "[encoded data removed]"
          },
          "metadata": {}
        },
        {
          "output_type": "stream",
          "name": "stdout",
          "text": [
            "\n"
          ]
        }
      ]
    },
    {
      "cell_type": "code",
      "source": [
        "# document -> OOM\n",
        "targetWV = model.get_elmo_vector_average([\" \".join(wholeFileInWords)])\n",
        "with tf.compat.v1.Session() as sess:\n",
        "    result = (tf.keras.losses.CosineSimilarity()(queryWV[0], targetWV[0]) * (-1)).eval()\n",
        "result"
      ],
      "metadata": {
        "id": "Mn5ZsvgwKrp0"
      },
      "execution_count": null,
      "outputs": []
    }
  ],
  "metadata": {
    "accelerator": "GPU",
    "colab": {
      "provenance": [],
      "authorship_tag": "ABX9TyMuuxP/4fgqVNaUN/0wIzQ1",
      "include_colab_link": true
    },
    "kernelspec": {
      "display_name": "Python 3",
      "name": "python3"
    },
    "language_info": {
      "name": "python"
    }
  },
  "nbformat": 4,
  "nbformat_minor": 0
}