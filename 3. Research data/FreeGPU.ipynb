{
  "cells": [
    {
      "cell_type": "markdown",
      "metadata": {
        "id": "view-in-github",
        "colab_type": "text"
      },
      "source": [
        "<a href=\"https://colab.research.google.com/github/tgchen321/NLP_EmbedFintechJournal/blob/main/3.%20Research%20data/FreeGPU.ipynb\" target=\"_parent\"><img src=\"https://colab.research.google.com/assets/colab-badge.svg\" alt=\"Open In Colab\"/></a>"
      ]
    },
    {
      "cell_type": "code",
      "execution_count": null,
      "metadata": {
        "colab": {
          "base_uri": "https://localhost:8080/"
        },
        "id": "0EOxuXgsd5jY",
        "outputId": "5cbd2b18-f92a-4ad8-be89-48718e51eec6"
      },
      "outputs": [
        {
          "name": "stdout",
          "output_type": "stream",
          "text": [
            "Drive already mounted at /content/drive; to attempt to forcibly remount, call drive.mount(\"/content/drive\", force_remount=True).\n",
            "/content/drive/MyDrive/Colab Notebooks/summerProject\n",
            "Sun Aug 20 21:07:40 2023       \n",
            "+-----------------------------------------------------------------------------+\n",
            "| NVIDIA-SMI 525.105.17   Driver Version: 525.105.17   CUDA Version: 12.0     |\n",
            "|-------------------------------+----------------------+----------------------+\n",
            "| GPU  Name        Persistence-M| Bus-Id        Disp.A | Volatile Uncorr. ECC |\n",
            "| Fan  Temp  Perf  Pwr:Usage/Cap|         Memory-Usage | GPU-Util  Compute M. |\n",
            "|                               |                      |               MIG M. |\n",
            "|===============================+======================+======================|\n",
            "|   0  Tesla T4            Off  | 00000000:00:04.0 Off |                    0 |\n",
            "| N/A   41C    P8     9W /  70W |      0MiB / 15360MiB |      0%      Default |\n",
            "|                               |                      |                  N/A |\n",
            "+-------------------------------+----------------------+----------------------+\n",
            "                                                                               \n",
            "+-----------------------------------------------------------------------------+\n",
            "| Processes:                                                                  |\n",
            "|  GPU   GI   CI        PID   Type   Process name                  GPU Memory |\n",
            "|        ID   ID                                                   Usage      |\n",
            "|=============================================================================|\n",
            "|  No running processes found                                                 |\n",
            "+-----------------------------------------------------------------------------+\n"
          ]
        }
      ],
      "source": [
        "# import necessary libraries\n",
        "drive.mount('/content/drive')\n",
        "\n",
        "%cd /content/drive/MyDrive/Colab Notebooks/summerProject/\n",
        "import tensorflow_hub as hub\n",
        "import tensorflow as tf\n",
        "from google.colab import drive\n",
        "import myNLPTool, pickle, math\n",
        "from matplotlib import pyplot as plt\n",
        "import nltk\n",
        "import torch\n",
        "import torchtext\n",
        "\n",
        "GDpath = '/content/drive/MyDrive/Colab Notebooks/summerProject/'\n",
        "\n",
        "!nvidia-smi"
      ]
    },
    {
      "cell_type": "code",
      "execution_count": null,
      "metadata": {
        "colab": {
          "base_uri": "https://localhost:8080/"
        },
        "id": "UTPkuIrIHJ9K",
        "outputId": "6ae24fec-4b6d-4494-fa64-f52f709428e1"
      },
      "outputs": [
        {
          "name": "stderr",
          "output_type": "stream",
          "text": [
            "[nltk_data] Downloading package stopwords to /root/nltk_data...\n",
            "[nltk_data]   Unzipping corpora/stopwords.zip.\n",
            "[nltk_data] Downloading package punkt to /root/nltk_data...\n",
            "[nltk_data]   Unzipping tokenizers/punkt.zip.\n",
            "[nltk_data] Downloading package wordnet to /root/nltk_data...\n"
          ]
        },
        {
          "data": {
            "text/plain": [
              "True"
            ]
          },
          "execution_count": 15,
          "metadata": {},
          "output_type": "execute_result"
        }
      ],
      "source": [
        "nltk.download('stopwords')\n",
        "nltk.download('punkt')\n",
        "nltk.download('wordnet')"
      ]
    },
    {
      "cell_type": "code",
      "execution_count": null,
      "metadata": {
        "id": "WBbVsPtfBgvS"
      },
      "outputs": [],
      "source": [
        "with open(\"dataList.pkl\", \"rb\") as pkl:\n",
        "\t\tdataset = pickle.load(pkl)\n",
        "\n",
        "targetSents, targetWords, wholeFileInWords = myNLPTool.Tokenise(dataset[0][\"fullText\"])\n",
        "_, _, queryWords = myNLPTool.Tokenise(dataset[0][\"citeSent\"])\n",
        "\n",
        "def Evaluation(result):\n",
        "\t# print(result)\n",
        "\tprint(\"# RESULTS: \")\n",
        "\tresult.sort(reverse = True)\n",
        "\tprint(\"Average similarity(cosine sim.): \" + str(sum(result)/len(result)))\n",
        "\tprint(\"Maximum similarity(cosine sim.): \" + str(result[0]))\n",
        "\tprint(\"Minimum similarity(cosine sim.): \" + str(result[-1]))\n",
        "\tif len(result) > 10:\n",
        "\t\ttop10 = math.ceil(len(result)/10)\n",
        "\t\tprint(\"Top 10% average similarity(cosine sim.): \" + str(sum(result[:top10])/top10))\n",
        "\t\t_, ax = plt.subplots(figsize =(10, 7))\n",
        "\t\tax.hist(result)\n",
        "\t\tplt.show()\n",
        "\tprint()"
      ]
    },
    {
      "cell_type": "markdown",
      "metadata": {
        "id": "DNtGd2DXow0C"
      },
      "source": [
        "# USE"
      ]
    },
    {
      "cell_type": "code",
      "execution_count": null,
      "metadata": {
        "id": "EHkUgYxbpPh2"
      },
      "outputs": [],
      "source": [
        "# Load pre-trained universal sentence encoder model\n",
        "embed = hub.load(\"https://tfhub.dev/google/universal-sentence-encoder/4\")\n",
        "\n",
        "# Sentences for which you want to create embeddings,\n",
        "# passed as an array in embed()\n",
        "embeddings = embed([dataset[0][\"citeSent\"]] + targetSents)\n",
        "\n",
        "# Printing embeddings of each sentence\n",
        "# print(embeddings)"
      ]
    },
    {
      "cell_type": "code",
      "execution_count": null,
      "metadata": {
        "colab": {
          "base_uri": "https://localhost:8080/",
          "height": 703
        },
        "id": "1AvjHYN0pyqJ",
        "outputId": "1e9117db-49c2-472c-982a-c5a067cd9bb4"
      },
      "outputs": [
        {
          "name": "stdout",
          "output_type": "stream",
          "text": [
            "# RESULTS: \n",
            "Average similarity(cosine sim.): 0.08126362880811984\n",
            "Maximum similarity(cosine sim.): 0.4644280970096588\n",
            "Minimum similarity(cosine sim.): -0.14825300872325897\n",
            "Top 10% average similarity(cosine sim.): 0.2824981524830773\n"
          ]
        },
        {
          "data": {
            "image/png": "[encoded data removed]",
            "text/plain": [
              "<Figure size 1000x700 with 1 Axes>"
            ]
          },
          "metadata": {},
          "output_type": "display_data"
        },
        {
          "name": "stdout",
          "output_type": "stream",
          "text": [
            "\n"
          ]
        }
      ],
      "source": [
        "# sentence\n",
        "result = []\n",
        "for i in range(1, len(targetSents)):\n",
        "    # print(Sentences[i])\n",
        "    # print(embeddings[i])\n",
        "    result.append(tf.keras.losses.CosineSimilarity()(embeddings[0], embeddings[i]).numpy() * (-1))\n",
        "\n",
        "Evaluation(result)"
      ]
    },
    {
      "cell_type": "markdown",
      "metadata": {
        "id": "oTMCfTXAo0T_"
      },
      "source": [
        "# GloVe"
      ]
    },
    {
      "cell_type": "code",
      "execution_count": null,
      "metadata": {
        "colab": {
          "base_uri": "https://localhost:8080/"
        },
        "id": "ZqVKxeDDo2SY",
        "outputId": "4c0a4a84-79ae-413c-ec4b-614f1eba80bf"
      },
      "outputs": [
        {
          "name": "stderr",
          "output_type": "stream",
          "text": [
            "100%|█████████▉| 399999/400000 [00:30<00:00, 13051.66it/s]\n"
          ]
        }
      ],
      "source": [
        "glove = torchtext.vocab.GloVe(name=\"6B\", dim=100)"
      ]
    },
    {
      "cell_type": "code",
      "execution_count": 37,
      "metadata": {
        "colab": {
          "base_uri": "https://localhost:8080/",
          "height": 703
        },
        "id": "SPofa3FIpzMy",
        "outputId": "f6d312b4-31c2-4be8-dc9f-97d7962b7898"
      },
      "outputs": [
        {
          "output_type": "stream",
          "name": "stdout",
          "text": [
            "# RESULTS: \n",
            "Average similarity(cosine sim.): tf.Tensor(0.85053694, shape=(), dtype=float32)\n",
            "Maximum similarity(cosine sim.): tf.Tensor(0.9374974, shape=(), dtype=float32)\n",
            "Minimum similarity(cosine sim.): tf.Tensor(0.5614605, shape=(), dtype=float32)\n",
            "Top 10% average similarity(cosine sim.): tf.Tensor(0.9193145, shape=(), dtype=float32)\n"
          ]
        },
        {
          "output_type": "display_data",
          "data": {
            "text/plain": [
              "<Figure size 1000x700 with 1 Axes>"
            ],
            "image/png": "[encoded data removed]"
          },
          "metadata": {}
        },
        {
          "output_type": "stream",
          "name": "stdout",
          "text": [
            "\n"
          ]
        }
      ],
      "source": [
        "# sentence\n",
        "# query embedding\n",
        "queryWV = torch.zeros(size = [100])\n",
        "includedWord = 0\n",
        "for word in queryWords:\n",
        "    if torch.sum(glove[word]) == 0: continue\n",
        "    queryWV = torch.add(queryWV, glove[word])\n",
        "    includedWord += 1\n",
        "queryWV = queryWV/includedWord\n",
        "\n",
        "# target embedding & result\n",
        "result = []\n",
        "for sentence in targetWords:\n",
        "    targetWV = torch.zeros(size = [100])\n",
        "    includedWord = 0\n",
        "    for word in sentence:\n",
        "        if torch.sum(glove[word]) == 0: continue\n",
        "        targetWV = torch.add(targetWV, glove[word])\n",
        "        includedWord += 1\n",
        "    targetWV = targetWV/includedWord\n",
        "    result.append(tf.keras.losses.CosineSimilarity()(queryWV, targetWV.numpy() * (-1)))\n",
        "\n",
        "Evaluation(result)"
      ]
    },
    {
      "cell_type": "code",
      "source": [
        "# document\n",
        "# query embedding\n",
        "queryWV = torch.zeros(size = [100])\n",
        "includedWord = 0\n",
        "for word in queryWords:\n",
        "    if torch.sum(glove[word]) == 0: continue\n",
        "    queryWV = torch.add(queryWV, glove[word])\n",
        "    includedWord += 1\n",
        "queryWV = queryWV/includedWord\n",
        "\n",
        "# target embedding & result\n",
        "for word in wholeFileInWords:\n",
        "    if torch.sum(glove[word]) == 0: continue\n",
        "    targetWV = torch.add(targetWV, glove[word])\n",
        "    includedWord += 1\n",
        "targetWV = targetWV/includedWord\n",
        "result = tf.keras.losses.CosineSimilarity()(queryWV, targetWV.numpy() * (-1))\n",
        "result"
      ],
      "metadata": {
        "colab": {
          "base_uri": "https://localhost:8080/"
        },
        "id": "-9vIgpV1-7SW",
        "outputId": "fe4593a6-ca7e-474a-d693-c6f7596ddae0"
      },
      "execution_count": 38,
      "outputs": [
        {
          "output_type": "execute_result",
          "data": {
            "text/plain": [
              "<tf.Tensor: shape=(), dtype=float32, numpy=0.93592113>"
            ]
          },
          "metadata": {},
          "execution_count": 38
        }
      ]
    }
  ],
  "metadata": {
    "accelerator": "GPU",
    "colab": {
      "provenance": [],
      "toc_visible": true,
      "authorship_tag": "ABX9TyPSLX1GU1sJKVjrpGXrbNin",
      "include_colab_link": true
    },
    "kernelspec": {
      "display_name": "Python 3",
      "name": "python3"
    },
    "language_info": {
      "name": "python"
    }
  },
  "nbformat": 4,
  "nbformat_minor": 0
}