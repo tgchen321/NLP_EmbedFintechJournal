{
  "nbformat": 4,
  "nbformat_minor": 0,
  "metadata": {
    "colab": {
      "provenance": [],
      "gpuType": "T4",
      "authorship_tag": "ABX9TyMJm3323doampcijaKiHPhy",
      "include_colab_link": true
    },
    "kernelspec": {
      "name": "python3",
      "display_name": "Python 3"
    },
    "language_info": {
      "name": "python"
    },
    "accelerator": "GPU"
  },
  "cells": [
    {
      "cell_type": "markdown",
      "metadata": {
        "id": "view-in-github",
        "colab_type": "text"
      },
      "source": [
        "<a href=\"https://colab.research.google.com/github/tgchen321/NLP_EmbedFintechJournal/blob/main/3.%20Research%20data/FreeGPU.ipynb\" target=\"_parent\"><img src=\"https://colab.research.google.com/assets/colab-badge.svg\" alt=\"Open In Colab\"/></a>"
      ]
    },
    {
      "cell_type": "code",
      "execution_count": 19,
      "metadata": {
        "id": "0EOxuXgsd5jY",
        "colab": {
          "base_uri": "https://localhost:8080/"
        },
        "outputId": "ecf189fc-f511-4796-fc33-a8d947f36abf"
      },
      "outputs": [
        {
          "output_type": "stream",
          "name": "stdout",
          "text": [
            "/content/drive/MyDrive/Colab Notebooks/summerProject\n",
            "Drive already mounted at /content/drive; to attempt to forcibly remount, call drive.mount(\"/content/drive\", force_remount=True).\n",
            "Mon Aug  7 13:12:44 2023       \n",
            "+-----------------------------------------------------------------------------+\n",
            "| NVIDIA-SMI 525.105.17   Driver Version: 525.105.17   CUDA Version: 12.0     |\n",
            "|-------------------------------+----------------------+----------------------+\n",
            "| GPU  Name        Persistence-M| Bus-Id        Disp.A | Volatile Uncorr. ECC |\n",
            "| Fan  Temp  Perf  Pwr:Usage/Cap|         Memory-Usage | GPU-Util  Compute M. |\n",
            "|                               |                      |               MIG M. |\n",
            "|===============================+======================+======================|\n",
            "|   0  Tesla T4            Off  | 00000000:00:04.0 Off |                    0 |\n",
            "| N/A   38C    P8     9W /  70W |      0MiB / 15360MiB |      0%      Default |\n",
            "|                               |                      |                  N/A |\n",
            "+-------------------------------+----------------------+----------------------+\n",
            "                                                                               \n",
            "+-----------------------------------------------------------------------------+\n",
            "| Processes:                                                                  |\n",
            "|  GPU   GI   CI        PID   Type   Process name                  GPU Memory |\n",
            "|        ID   ID                                                   Usage      |\n",
            "|=============================================================================|\n",
            "|  No running processes found                                                 |\n",
            "+-----------------------------------------------------------------------------+\n"
          ]
        }
      ],
      "source": [
        "# import necessary libraries\n",
        "%cd /content/drive/MyDrive/Colab Notebooks/summerProject/\n",
        "import tensorflow_hub as hub\n",
        "import tensorflow as tf\n",
        "from google.colab import drive\n",
        "import myNLPTool, pickle, math\n",
        "from matplotlib import pyplot as plt\n",
        "\n",
        "drive.mount('/content/drive')\n",
        "GDpath = '/content/drive/MyDrive/Colab Notebooks/summerProject/'\n",
        "\n",
        "!nvidia-smi"
      ]
    },
    {
      "cell_type": "code",
      "source": [
        "import nltk\n",
        "nltk.download('stopwords')\n",
        "nltk.download('punkt')\n",
        "nltk.download('wordnet')"
      ],
      "metadata": {
        "colab": {
          "base_uri": "https://localhost:8080/"
        },
        "id": "UTPkuIrIHJ9K",
        "outputId": "6916dcf8-eddf-4c7a-fd30-ef0818de69e5"
      },
      "execution_count": 16,
      "outputs": [
        {
          "output_type": "stream",
          "name": "stderr",
          "text": [
            "[nltk_data] Downloading package stopwords to /root/nltk_data...\n",
            "[nltk_data]   Package stopwords is already up-to-date!\n",
            "[nltk_data] Downloading package punkt to /root/nltk_data...\n",
            "[nltk_data]   Package punkt is already up-to-date!\n",
            "[nltk_data] Downloading package wordnet to /root/nltk_data...\n"
          ]
        },
        {
          "output_type": "execute_result",
          "data": {
            "text/plain": [
              "True"
            ]
          },
          "metadata": {},
          "execution_count": 16
        }
      ]
    },
    {
      "cell_type": "code",
      "source": [
        "with open(\"dataList.pkl\", \"rb\") as pkl:\n",
        "\t\tdataset = pickle.load(pkl)\n",
        "\n",
        "targetSents, targetWords, wholeFileInWords = myNLPTool.Tokenise(dataset[0][\"fullText\"])\n",
        "_, _, queryWords = myNLPTool.Tokenise(dataset[0][\"citeSent\"])\n",
        "\n",
        "def Evaluation(result):\n",
        "\t# print(result)\n",
        "\tprint(\"# RESULTS: \")\n",
        "\tresult.sort(reverse = True)\n",
        "\tprint(\"Average similarity(cosine sim.): \" + str(sum(result)/len(result)))\n",
        "\tprint(\"Maximum similarity(cosine sim.): \" + str(result[0]))\n",
        "\tprint(\"Minimum similarity(cosine sim.): \" + str(result[-1]))\n",
        "\tif len(result) > 10:\n",
        "\t\ttop10 = math.ceil(len(result)/10)\n",
        "\t\tprint(\"Top 10% average similarity(cosine sim.): \" + str(sum(result[:top10])/top10))\n",
        "\t\t_, ax = plt.subplots(figsize =(10, 7))\n",
        "\t\tax.hist(result)\n",
        "\t\tplt.show()\n",
        "\tprint()"
      ],
      "metadata": {
        "id": "WBbVsPtfBgvS"
      },
      "execution_count": 20,
      "outputs": []
    },
    {
      "cell_type": "code",
      "source": [
        "# Load pre-trained universal sentence encoder model\n",
        "embed = hub.load(\"https://tfhub.dev/google/universal-sentence-encoder/4\")\n",
        "\n",
        "# Sentences for which you want to create embeddings,\n",
        "# passed as an array in embed()\n",
        "embeddings = embed([dataset[0][\"citeSent\"]] + targetSents)\n",
        "\n",
        "# Printing embeddings of each sentence\n",
        "# print(embeddings)"
      ],
      "metadata": {
        "id": "EHkUgYxbpPh2"
      },
      "execution_count": 25,
      "outputs": []
    },
    {
      "cell_type": "code",
      "source": [
        "# To print each embeddings along with its corresponding\n",
        "# sentence below code can be used.\n",
        "result = []\n",
        "for i in range(1, len(targetSents)):\n",
        "    # print(Sentences[i])\n",
        "    # print(embeddings[i])\n",
        "    result.append(tf.keras.losses.CosineSimilarity()(embeddings[0], embeddings[i]).numpy() * (-1))\n",
        "\n",
        "Evaluation(result)"
      ],
      "metadata": {
        "id": "1AvjHYN0pyqJ",
        "outputId": "1e9117db-49c2-472c-982a-c5a067cd9bb4",
        "colab": {
          "base_uri": "https://localhost:8080/",
          "height": 703
        }
      },
      "execution_count": 36,
      "outputs": [
        {
          "output_type": "stream",
          "name": "stdout",
          "text": [
            "# RESULTS: \n",
            "Average similarity(cosine sim.): 0.08126362880811984\n",
            "Maximum similarity(cosine sim.): 0.4644280970096588\n",
            "Minimum similarity(cosine sim.): -0.14825300872325897\n",
            "Top 10% average similarity(cosine sim.): 0.2824981524830773\n"
          ]
        },
        {
          "output_type": "display_data",
          "data": {
            "text/plain": [
              "<Figure size 1000x700 with 1 Axes>"
            ],
            "image/png": "[encoded data removed]"
          },
          "metadata": {}
        },
        {
          "output_type": "stream",
          "name": "stdout",
          "text": [
            "\n"
          ]
        }
      ]
    }
  ]
}